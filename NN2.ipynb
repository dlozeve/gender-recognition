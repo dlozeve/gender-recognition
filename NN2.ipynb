{
 "cells": [
  {
   "cell_type": "code",
   "execution_count": null,
   "metadata": {},
   "outputs": [],
   "source": [
    "import numpy as np\n",
    "import pandas as pd"
   ]
  },
  {
   "cell_type": "code",
   "execution_count": null,
   "metadata": {},
   "outputs": [],
   "source": [
    "import torch\n",
    "from torch.autograd import Variable\n",
    "import torch.nn as nn\n",
    "import torch.nn.functional as F\n",
    "import torch.optim as optim\n",
    "import torchvision"
   ]
  },
  {
   "cell_type": "code",
   "execution_count": null,
   "metadata": {},
   "outputs": [],
   "source": [
    "from sklearn.preprocessing import StandardScaler\n",
    "from sklearn.model_selection import train_test_split, StratifiedShuffleSplit\n",
    "from sklearn.metrics import log_loss, roc_auc_score\n",
    "from sklearn.discriminant_analysis import QuadraticDiscriminantAnalysis\n",
    "from sklearn.neighbors import KNeighborsClassifier\n",
    "# from sklearn.manifold import TSNE\n",
    "from MulticoreTSNE import MulticoreTSNE as TSNE\n",
    "import xgboost as xgb"
   ]
  },
  {
   "cell_type": "code",
   "execution_count": null,
   "metadata": {},
   "outputs": [],
   "source": [
    "X = pd.read_csv(\"data/train.data.csv\")\n",
    "y = pd.read_csv(\"data/train.labels.csv\")\n",
    "test_data = pd.read_csv(\"data/test.data.csv\")\n",
    "X = X.values\n",
    "y = y.values.ravel()\n",
    "test_data = test_data.values"
   ]
  },
  {
   "cell_type": "code",
   "execution_count": null,
   "metadata": {},
   "outputs": [],
   "source": [
    "proj = TSNE(n_components=2, verbose=2, perplexity=10, early_exaggeration=50, n_jobs=4, learning_rate=100, n_iter=1000)\n",
    "X_proj = proj.fit_transform(X)"
   ]
  },
  {
   "cell_type": "code",
   "execution_count": null,
   "metadata": {},
   "outputs": [],
   "source": [
    "X = np.c_[X, X_proj]"
   ]
  },
  {
   "cell_type": "code",
   "execution_count": null,
   "metadata": {},
   "outputs": [],
   "source": [
    "X, X_val, y, y_val = train_test_split(X, y, test_size=0.1)"
   ]
  },
  {
   "cell_type": "code",
   "execution_count": null,
   "metadata": {},
   "outputs": [],
   "source": [
    "qda = QuadraticDiscriminantAnalysis(reg_param=0.025)\n",
    "qda.fit(X, y)\n",
    "X_qda = qda.predict_proba(X)\n",
    "X_val_qda = qda.predict_proba(X_val)\n",
    "#test_data_qda = qda.predict_proba(test_data)\n",
    "#test_data = np.c_[test_data, test_data_qda[:, 1]]"
   ]
  },
  {
   "cell_type": "code",
   "execution_count": null,
   "metadata": {},
   "outputs": [],
   "source": [
    "X = np.c_[X, X_qda[:, 1]]\n",
    "X_val = np.c_[X_val, X_val_qda[:, 1]]"
   ]
  },
  {
   "cell_type": "code",
   "execution_count": null,
   "metadata": {},
   "outputs": [],
   "source": [
    "knn = KNeighborsClassifier(n_neighbors=10, p=2, n_jobs=-1)\n",
    "knn.fit(X, y)\n",
    "X_knn = knn.predict_proba(X)\n",
    "X_val_knn = knn.predict_proba(X_val)\n",
    "#test_data_knn = knn.predict_proba(test_data)\n",
    "#test_data = np.c_[test_data, test_data_knn[:, 1]]"
   ]
  },
  {
   "cell_type": "code",
   "execution_count": null,
   "metadata": {},
   "outputs": [],
   "source": [
    "X = np.c_[X, X_knn[:, 1]]\n",
    "X_val = np.c_[X_val, X_val_knn[:, 1]]"
   ]
  },
  {
   "cell_type": "code",
   "execution_count": null,
   "metadata": {},
   "outputs": [],
   "source": [
    "xgbclf = xgb.XGBClassifier(max_depth=5, learning_rate=0.1, n_estimators=1000,\n",
    "                           objective='binary:logistic', n_jobs=4)\n",
    "xgbclf.fit(X, y)\n",
    "X_xgb = xgbclf.predict_proba(X)\n",
    "X_val_xgb = xgbclf.predict_proba(X_val)"
   ]
  },
  {
   "cell_type": "code",
   "execution_count": null,
   "metadata": {},
   "outputs": [],
   "source": [
    "X = np.c_[X, X_xgb[:, 1]]\n",
    "X_val = np.c_[X_val, X_val_xgb[:, 1]]"
   ]
  },
  {
   "cell_type": "code",
   "execution_count": null,
   "metadata": {},
   "outputs": [],
   "source": [
    "scaler = StandardScaler()\n",
    "X = scaler.fit_transform(X)\n",
    "X_val = scaler.transform(X_val)\n",
    "#test_data = scaler.transform(test_data)"
   ]
  },
  {
   "cell_type": "code",
   "execution_count": null,
   "metadata": {},
   "outputs": [],
   "source": [
    "X.shape"
   ]
  },
  {
   "cell_type": "code",
   "execution_count": null,
   "metadata": {},
   "outputs": [],
   "source": [
    "class Net(nn.Module):\n",
    "    def __init__(self):\n",
    "        super(Net, self).__init__()\n",
    "        self.layer1 = nn.Sequential(\n",
    "            nn.Linear(130, 256),\n",
    "            nn.Dropout(0.2),\n",
    "            nn.ReLU()\n",
    "        )\n",
    "        self.layer2 = nn.Sequential(\n",
    "            nn.Linear(256, 64),\n",
    "            nn.Dropout(0.2),\n",
    "            nn.ReLU()\n",
    "        )\n",
    "        self.output = nn.Sequential(\n",
    "            nn.Linear(256, 2),\n",
    "            nn.Softmax(dim=1)\n",
    "        )\n",
    "\n",
    "    def forward(self, x):\n",
    "        x = self.layer1(x)\n",
    "        # x = self.layer2(x)\n",
    "        x = self.output(x)\n",
    "        return x"
   ]
  },
  {
   "cell_type": "code",
   "execution_count": null,
   "metadata": {},
   "outputs": [],
   "source": [
    "SPLITS = 10\n",
    "sss = StratifiedShuffleSplit(n_splits=SPLITS, test_size=0.2)\n",
    "net = list(range(SPLITS))\n",
    "for k, (train, test) in enumerate(sss.split(X, y)):\n",
    "    X_train = X[train, :]\n",
    "    y_train = y[train]\n",
    "    X_test = X[test, :]\n",
    "    y_test = y[test]\n",
    "\n",
    "    trainset = torch.utils.data.TensorDataset(torch.Tensor(X_train),\n",
    "                                              torch.LongTensor(y_train))\n",
    "    trainloader = torch.utils.data.DataLoader(trainset, batch_size=300,\n",
    "                                              shuffle=True, num_workers=2)\n",
    "    testset = torch.utils.data.TensorDataset(torch.Tensor(X_test),\n",
    "                                             torch.LongTensor(y_test))\n",
    "    testloader = torch.utils.data.DataLoader(testset, batch_size=300,\n",
    "                                             shuffle=True, num_workers=2)\n",
    "\n",
    "    if k == 0:\n",
    "        net[k] = Net()\n",
    "    else:\n",
    "        net[k] = net[k-1]\n",
    "    criterion = nn.CrossEntropyLoss()\n",
    "    optimizer = optim.Adam(net[k].parameters(), lr=0.001, weight_decay=1e-3)\n",
    "\n",
    "    for epoch in range(10):\n",
    "        running_loss = 0.0\n",
    "        for i, data in enumerate(trainloader, 0):\n",
    "            inputs, labels = data\n",
    "            inputs, labels = Variable(inputs), Variable(labels)\n",
    "            optimizer.zero_grad()\n",
    "            outputs = net[k](inputs)\n",
    "            loss = criterion(outputs, labels)\n",
    "            loss.backward()\n",
    "            optimizer.step()\n",
    "\n",
    "    net[k].eval()\n",
    "    data = Variable(torch.Tensor(X_test))\n",
    "    target = Variable(torch.LongTensor(y_test))\n",
    "    output = net[k](data)\n",
    "    test_loss = log_loss(y_test.data, output.data)\n",
    "    pred = output.data.max(1, keepdim=True)[1]\n",
    "    correct = pred.eq(target.data.view_as(pred)).long().cpu().sum()\n",
    "    auc = roc_auc_score(y_test.data, output.data[:, 1])\n",
    "\n",
    "    print(f\"[{k}] Test set: Average loss: {test_loss:.4f}, \"\n",
    "          f\"ROC AUC: {auc:.4f}, \"\n",
    "          f\"Accuracy: {correct}/{len(testloader.dataset)} \"\n",
    "          f\"({100. * correct/len(testloader.dataset):.1f}%)\")\n"
   ]
  },
  {
   "cell_type": "code",
   "execution_count": null,
   "metadata": {},
   "outputs": [],
   "source": [
    "X_val, y_val = Variable(torch.Tensor(X_val)), Variable(torch.LongTensor(y_val))"
   ]
  },
  {
   "cell_type": "code",
   "execution_count": null,
   "metadata": {},
   "outputs": [],
   "source": [
    "output = net[SPLITS-1](X_val)\n",
    "# print(output)\n",
    "# val_loss = F.cross_entropy(output, y_val).data[0]\n",
    "val_loss = log_loss(y_val.data, output.data)\n",
    "pred = output.data.max(1, keepdim=True)[1]\n",
    "correct = pred.eq(y_val.data.view_as(pred)).long().cpu().sum()\n",
    "auc = roc_auc_score(y_val.data, output.data[:, 1])\n",
    "print(f\"\\nValidation set: Average loss: {val_loss:.4f}, \"\n",
    "      f\"ROC AUC: {auc:.4f}, \"\n",
    "      f\"Accuracy: {correct}/{len(y_val)} \"\n",
    "      f\"({100. * correct/len(y_val):.1f}%)\\n\")"
   ]
  },
  {
   "cell_type": "code",
   "execution_count": null,
   "metadata": {},
   "outputs": [],
   "source": []
  }
 ],
 "metadata": {
  "kernelspec": {
   "display_name": "Python 3",
   "language": "python",
   "name": "python3"
  },
  "language_info": {
   "codemirror_mode": {
    "name": "ipython",
    "version": 3
   },
   "file_extension": ".py",
   "mimetype": "text/x-python",
   "name": "python",
   "nbconvert_exporter": "python",
   "pygments_lexer": "ipython3",
   "version": "3.6.4"
  }
 },
 "nbformat": 4,
 "nbformat_minor": 2
}
