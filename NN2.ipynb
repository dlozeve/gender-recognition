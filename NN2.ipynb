{
 "cells": [
  {
   "cell_type": "code",
   "execution_count": 1,
   "metadata": {},
   "outputs": [],
   "source": [
    "import numpy as np\n",
    "import pandas as pd"
   ]
  },
  {
   "cell_type": "code",
   "execution_count": 2,
   "metadata": {},
   "outputs": [],
   "source": [
    "import torch\n",
    "from torch.autograd import Variable\n",
    "import torch.nn as nn\n",
    "import torch.nn.functional as F\n",
    "import torch.optim as optim\n",
    "import torchvision"
   ]
  },
  {
   "cell_type": "code",
   "execution_count": 32,
   "metadata": {},
   "outputs": [],
   "source": [
    "from sklearn import preprocessing\n",
    "from sklearn.model_selection import train_test_split, StratifiedShuffleSplit\n",
    "from sklearn.metrics import log_loss, roc_auc_score\n",
    "from sklearn.discriminant_analysis import QuadraticDiscriminantAnalysis\n",
    "from sklearn.neighbors import KNeighborsClassifier\n",
    "# from sklearn.manifold import TSNE\n",
    "from MulticoreTSNE import MulticoreTSNE as TSNE"
   ]
  },
  {
   "cell_type": "code",
   "execution_count": 45,
   "metadata": {},
   "outputs": [],
   "source": [
    "X = pd.read_csv(\"data/train.data.csv\")\n",
    "y = pd.read_csv(\"data/train.labels.csv\")\n",
    "test_data = pd.read_csv(\"data/test.data.csv\")\n",
    "X = preprocessing.scale(X.values)\n",
    "y = y.values.ravel()\n",
    "test_data = preprocessing.scale(test_data.values)"
   ]
  },
  {
   "cell_type": "code",
   "execution_count": 19,
   "metadata": {},
   "outputs": [],
   "source": [
    "proj = TSNE(n_components=2, verbose=1, perplexity=30, n_jobs=4)\n",
    "X_proj = proj.fit_transform(X)"
   ]
  },
  {
   "cell_type": "code",
   "execution_count": 20,
   "metadata": {},
   "outputs": [],
   "source": [
    "X = np.c_[X, X_proj]"
   ]
  },
  {
   "cell_type": "code",
   "execution_count": 46,
   "metadata": {},
   "outputs": [],
   "source": [
    "X, X_val, y, y_val = train_test_split(X, y, test_size=0.1)"
   ]
  },
  {
   "cell_type": "code",
   "execution_count": 47,
   "metadata": {},
   "outputs": [],
   "source": [
    "qda = QuadraticDiscriminantAnalysis(reg_param=0.025)\n",
    "qda.fit(X, y)\n",
    "X_qda = qda.predict_proba(X)\n",
    "X_val_qda = qda.predict_proba(X_val)\n",
    "#test_data_qda = qda.predict_proba(test_data)\n",
    "#test_data = np.c_[test_data, test_data_qda[:, 1]]"
   ]
  },
  {
   "cell_type": "code",
   "execution_count": 48,
   "metadata": {},
   "outputs": [],
   "source": [
    "X = np.c_[X, X_qda[:, 1]]\n",
    "X_val = np.c_[X_val, X_val_qda[:, 1]]"
   ]
  },
  {
   "cell_type": "code",
   "execution_count": 49,
   "metadata": {},
   "outputs": [],
   "source": [
    "knn = KNeighborsClassifier(n_neighbors=10, p=2, n_jobs=-1)\n",
    "knn.fit(X, y)\n",
    "X_knn = knn.predict_proba(X)\n",
    "X_val_knn = knn.predict_proba(X_val)\n",
    "#test_data_knn = knn.predict_proba(test_data)\n",
    "#test_data = np.c_[test_data, test_data_knn[:, 1]]"
   ]
  },
  {
   "cell_type": "code",
   "execution_count": 50,
   "metadata": {},
   "outputs": [],
   "source": [
    "X = np.c_[X, X_knn[:, 1]]\n",
    "X_val = np.c_[X_val, X_val_knn[:, 1]]"
   ]
  },
  {
   "cell_type": "code",
   "execution_count": 51,
   "metadata": {},
   "outputs": [],
   "source": [
    "X = preprocessing.scale(X)\n",
    "X_val = preprocessing.scale(X_val)"
   ]
  },
  {
   "cell_type": "code",
   "execution_count": 52,
   "metadata": {},
   "outputs": [
    {
     "data": {
      "text/plain": [
       "(13500, 130)"
      ]
     },
     "execution_count": 52,
     "metadata": {},
     "output_type": "execute_result"
    }
   ],
   "source": [
    "X.shape"
   ]
  },
  {
   "cell_type": "code",
   "execution_count": 53,
   "metadata": {},
   "outputs": [],
   "source": [
    "class Net(nn.Module):\n",
    "    def __init__(self):\n",
    "        super(Net, self).__init__()\n",
    "        self.layer1 = nn.Sequential(\n",
    "            nn.Linear(130, 256),\n",
    "            nn.Dropout(0.2),\n",
    "            nn.ReLU()\n",
    "        )\n",
    "        self.layer2 = nn.Sequential(\n",
    "            nn.Linear(256, 64),\n",
    "            nn.Dropout(0.2),\n",
    "            nn.ReLU()\n",
    "        )\n",
    "        self.output = nn.Sequential(\n",
    "            nn.Linear(256, 2),\n",
    "            nn.Softmax(dim=1)\n",
    "        )\n",
    "\n",
    "    def forward(self, x):\n",
    "        x = self.layer1(x)\n",
    "        # x = self.layer2(x)\n",
    "        x = self.output(x)\n",
    "        return x"
   ]
  },
  {
   "cell_type": "code",
   "execution_count": 54,
   "metadata": {},
   "outputs": [
    {
     "name": "stdout",
     "output_type": "stream",
     "text": [
      "[0] Test set: Average loss: 0.0551, ROC AUC: 0.9979, Accuracy: 2644/2700 (97.9%)\n",
      "[1] Test set: Average loss: 0.0481, ROC AUC: 0.9978, Accuracy: 2660/2700 (98.5%)\n",
      "[2] Test set: Average loss: 0.0545, ROC AUC: 0.9975, Accuracy: 2651/2700 (98.2%)\n",
      "[3] Test set: Average loss: 0.0437, ROC AUC: 0.9988, Accuracy: 2664/2700 (98.7%)\n",
      "[4] Test set: Average loss: 0.0463, ROC AUC: 0.9975, Accuracy: 2665/2700 (98.7%)\n",
      "[5] Test set: Average loss: 0.0493, ROC AUC: 0.9973, Accuracy: 2661/2700 (98.6%)\n",
      "[6] Test set: Average loss: 0.0420, ROC AUC: 0.9985, Accuracy: 2664/2700 (98.7%)\n",
      "[7] Test set: Average loss: 0.0516, ROC AUC: 0.9976, Accuracy: 2657/2700 (98.4%)\n",
      "[8] Test set: Average loss: 0.0428, ROC AUC: 0.9981, Accuracy: 2664/2700 (98.7%)\n",
      "[9] Test set: Average loss: 0.0369, ROC AUC: 0.9986, Accuracy: 2670/2700 (98.9%)\n"
     ]
    }
   ],
   "source": [
    "SPLITS = 10\n",
    "sss = StratifiedShuffleSplit(n_splits=SPLITS, test_size=0.2)\n",
    "net = list(range(SPLITS))\n",
    "for k, (train, test) in enumerate(sss.split(X, y)):\n",
    "    X_train = X[train, :]\n",
    "    y_train = y[train]\n",
    "    X_test = X[test, :]\n",
    "    y_test = y[test]\n",
    "\n",
    "    trainset = torch.utils.data.TensorDataset(torch.Tensor(X_train),\n",
    "                                              torch.LongTensor(y_train))\n",
    "    trainloader = torch.utils.data.DataLoader(trainset, batch_size=300,\n",
    "                                              shuffle=True, num_workers=2)\n",
    "    testset = torch.utils.data.TensorDataset(torch.Tensor(X_test),\n",
    "                                             torch.LongTensor(y_test))\n",
    "    testloader = torch.utils.data.DataLoader(testset, batch_size=300,\n",
    "                                             shuffle=True, num_workers=2)\n",
    "\n",
    "    if k == 0:\n",
    "        net[k] = Net()\n",
    "    else:\n",
    "        net[k] = net[k-1]\n",
    "    criterion = nn.CrossEntropyLoss()\n",
    "    optimizer = optim.Adam(net[k].parameters(), lr=0.001, weight_decay=1e-3)\n",
    "\n",
    "    for epoch in range(10):\n",
    "        running_loss = 0.0\n",
    "        for i, data in enumerate(trainloader, 0):\n",
    "            inputs, labels = data\n",
    "            inputs, labels = Variable(inputs), Variable(labels)\n",
    "            optimizer.zero_grad()\n",
    "            outputs = net[k](inputs)\n",
    "            loss = criterion(outputs, labels)\n",
    "            loss.backward()\n",
    "            optimizer.step()\n",
    "\n",
    "    net[k].eval()\n",
    "    data = Variable(torch.Tensor(X_test))\n",
    "    target = Variable(torch.LongTensor(y_test))\n",
    "    output = net[k](data)\n",
    "    test_loss = log_loss(y_test.data, output.data)\n",
    "    pred = output.data.max(1, keepdim=True)[1]\n",
    "    correct = pred.eq(target.data.view_as(pred)).long().cpu().sum()\n",
    "    auc = roc_auc_score(y_test.data, output.data[:, 1])\n",
    "\n",
    "    print(f\"[{k}] Test set: Average loss: {test_loss:.4f}, \"\n",
    "          f\"ROC AUC: {auc:.4f}, \"\n",
    "          f\"Accuracy: {correct}/{len(testloader.dataset)} \"\n",
    "          f\"({100. * correct/len(testloader.dataset):.1f}%)\")"
   ]
  },
  {
   "cell_type": "code",
   "execution_count": 55,
   "metadata": {},
   "outputs": [],
   "source": [
    "X_val, y_val = Variable(torch.Tensor(X_val)), Variable(torch.LongTensor(y_val))"
   ]
  },
  {
   "cell_type": "code",
   "execution_count": 56,
   "metadata": {},
   "outputs": [
    {
     "name": "stdout",
     "output_type": "stream",
     "text": [
      "\n",
      "Validation set: Average loss: 0.0484, ROC AUC: 0.9987, Accuracy: 1470/1500 (98.0%)\n",
      "\n"
     ]
    }
   ],
   "source": [
    "output = net[SPLITS-1](X_val)\n",
    "# print(output)\n",
    "# val_loss = F.cross_entropy(output, y_val).data[0]\n",
    "val_loss = log_loss(y_val.data, output.data)\n",
    "pred = output.data.max(1, keepdim=True)[1]\n",
    "correct = pred.eq(y_val.data.view_as(pred)).long().cpu().sum()\n",
    "auc = roc_auc_score(y_val.data, output.data[:, 1])\n",
    "print(f\"\\nValidation set: Average loss: {val_loss:.4f}, \"\n",
    "      f\"ROC AUC: {auc:.4f}, \"\n",
    "      f\"Accuracy: {correct}/{len(y_val)} \"\n",
    "      f\"({100. * correct/len(y_val):.1f}%)\\n\")"
   ]
  },
  {
   "cell_type": "code",
   "execution_count": null,
   "metadata": {},
   "outputs": [],
   "source": []
  }
 ],
 "metadata": {
  "kernelspec": {
   "display_name": "Python 3",
   "language": "python",
   "name": "python3"
  },
  "language_info": {
   "codemirror_mode": {
    "name": "ipython",
    "version": 3
   },
   "file_extension": ".py",
   "mimetype": "text/x-python",
   "name": "python",
   "nbconvert_exporter": "python",
   "pygments_lexer": "ipython3",
   "version": "3.6.4"
  }
 },
 "nbformat": 4,
 "nbformat_minor": 2
}
